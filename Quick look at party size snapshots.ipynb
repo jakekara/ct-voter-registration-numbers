{
 "cells": [
  {
   "cell_type": "markdown",
   "metadata": {},
   "source": [
    "# Quick look at party size snapshots\n",
    "\n",
    "I combined data from the SOTS site here...\n",
    "\n",
    "https://portal.ct.gov/SOTS/Election-Services/Statistics-and-Data/Statistics-and-Data\n",
    "\n",
    "...plus a snapshot from around the end of June 2018, to get a rough sense of how the party sizes have changed.\n",
    "\n",
    "### Limitations of these data\n",
    "\n",
    "I was asked by colleague to see whether any party is pulling ahead in terms of adding voters, but these single point in time snapshots of party size don't get at how many people are registering. They show that overall these numbers increase in presidential years and d\n"
   ]
  },
  {
   "cell_type": "code",
   "execution_count": 39,
   "metadata": {},
   "outputs": [],
   "source": [
    "import pandas as pd"
   ]
  },
  {
   "cell_type": "code",
   "execution_count": 40,
   "metadata": {},
   "outputs": [
    {
     "data": {
      "text/html": [
       "<div>\n",
       "<style scoped>\n",
       "    .dataframe tbody tr th:only-of-type {\n",
       "        vertical-align: middle;\n",
       "    }\n",
       "\n",
       "    .dataframe tbody tr th {\n",
       "        vertical-align: top;\n",
       "    }\n",
       "\n",
       "    .dataframe thead tr th {\n",
       "        text-align: left;\n",
       "    }\n",
       "</style>\n",
       "<table border=\"1\" class=\"dataframe\">\n",
       "  <thead>\n",
       "    <tr>\n",
       "      <th></th>\n",
       "      <th>Unnamed: 0_level_0</th>\n",
       "      <th>Republican Party</th>\n",
       "      <th>Unnamed: 2_level_0</th>\n",
       "      <th>Unnamed: 3_level_0</th>\n",
       "      <th>Democratic Party</th>\n",
       "      <th>Unnamed: 5_level_0</th>\n",
       "      <th>Unnamed: 6_level_0</th>\n",
       "      <th>Minor Parties</th>\n",
       "      <th>Unnamed: 8_level_0</th>\n",
       "      <th>Unnamed: 9_level_0</th>\n",
       "      <th>Unaffiliated</th>\n",
       "      <th>Unnamed: 11_level_0</th>\n",
       "      <th>Unnamed: 12_level_0</th>\n",
       "      <th>Totals</th>\n",
       "      <th>Unnamed: 14_level_0</th>\n",
       "      <th>Unnamed: 15_level_0</th>\n",
       "    </tr>\n",
       "    <tr>\n",
       "      <th></th>\n",
       "      <th>Year</th>\n",
       "      <th>Active</th>\n",
       "      <th>Inactive</th>\n",
       "      <th>Total</th>\n",
       "      <th>Active</th>\n",
       "      <th>Inactive</th>\n",
       "      <th>Total</th>\n",
       "      <th>Active</th>\n",
       "      <th>Inactive</th>\n",
       "      <th>Total</th>\n",
       "      <th>Active</th>\n",
       "      <th>Inactive</th>\n",
       "      <th>Total</th>\n",
       "      <th>Active</th>\n",
       "      <th>Inactive</th>\n",
       "      <th>Totals</th>\n",
       "    </tr>\n",
       "  </thead>\n",
       "  <tbody>\n",
       "    <tr>\n",
       "      <th>0</th>\n",
       "      <td>2018 YTD</td>\n",
       "      <td>446,265</td>\n",
       "      <td>NaN</td>\n",
       "      <td>NaN</td>\n",
       "      <td>760,672</td>\n",
       "      <td>NaN</td>\n",
       "      <td>NaN</td>\n",
       "      <td>NaN</td>\n",
       "      <td>NaN</td>\n",
       "      <td>NaN</td>\n",
       "      <td>857,111</td>\n",
       "      <td>NaN</td>\n",
       "      <td>NaN</td>\n",
       "      <td>NaN</td>\n",
       "      <td>NaN</td>\n",
       "      <td>NaN</td>\n",
       "    </tr>\n",
       "    <tr>\n",
       "      <th>1</th>\n",
       "      <td>2017</td>\n",
       "      <td>453,625</td>\n",
       "      <td>27,711</td>\n",
       "      <td>481,336</td>\n",
       "      <td>771,412</td>\n",
       "      <td>77,081</td>\n",
       "      <td>848,493</td>\n",
       "      <td>29,668</td>\n",
       "      <td>2,291</td>\n",
       "      <td>31,959</td>\n",
       "      <td>861,766</td>\n",
       "      <td>94,697</td>\n",
       "      <td>956,463</td>\n",
       "      <td>2,116,471</td>\n",
       "      <td>201,780</td>\n",
       "      <td>2,318,251</td>\n",
       "    </tr>\n",
       "    <tr>\n",
       "      <th>2</th>\n",
       "      <td>2016</td>\n",
       "      <td>467,687</td>\n",
       "      <td>24,537</td>\n",
       "      <td>492,224</td>\n",
       "      <td>810,136</td>\n",
       "      <td>59,705</td>\n",
       "      <td>869,841</td>\n",
       "      <td>28,050</td>\n",
       "      <td>1,582</td>\n",
       "      <td>29,632</td>\n",
       "      <td>881,476</td>\n",
       "      <td>84,560</td>\n",
       "      <td>966,036</td>\n",
       "      <td>2,187,349</td>\n",
       "      <td>170,384</td>\n",
       "      <td>2,357,733</td>\n",
       "    </tr>\n",
       "    <tr>\n",
       "      <th>3</th>\n",
       "      <td>2015</td>\n",
       "      <td>400,216</td>\n",
       "      <td>29,085</td>\n",
       "      <td>429,301</td>\n",
       "      <td>703,851</td>\n",
       "      <td>73,035</td>\n",
       "      <td>776,886</td>\n",
       "      <td>20,610</td>\n",
       "      <td>1,883</td>\n",
       "      <td>22,493</td>\n",
       "      <td>798,426</td>\n",
       "      <td>102,273</td>\n",
       "      <td>900,699</td>\n",
       "      <td>1,923,103</td>\n",
       "      <td>206,276</td>\n",
       "      <td>2,129,379</td>\n",
       "    </tr>\n",
       "    <tr>\n",
       "      <th>4</th>\n",
       "      <td>2014</td>\n",
       "      <td>407,519</td>\n",
       "      <td>27,189</td>\n",
       "      <td>434,708</td>\n",
       "      <td>712,925</td>\n",
       "      <td>72,962</td>\n",
       "      <td>785,887</td>\n",
       "      <td>20,168</td>\n",
       "      <td>1,638</td>\n",
       "      <td>21,806</td>\n",
       "      <td>818,381</td>\n",
       "      <td>97,576</td>\n",
       "      <td>915,957</td>\n",
       "      <td>1,958,993</td>\n",
       "      <td>199,365</td>\n",
       "      <td>2,158,358</td>\n",
       "    </tr>\n",
       "  </tbody>\n",
       "</table>\n",
       "</div>"
      ],
      "text/plain": [
       "  Unnamed: 0_level_0 Republican Party Unnamed: 2_level_0 Unnamed: 3_level_0  \\\n",
       "                Year           Active           Inactive              Total   \n",
       "0           2018 YTD          446,265                NaN                NaN   \n",
       "1               2017          453,625             27,711            481,336   \n",
       "2               2016          467,687             24,537            492,224   \n",
       "3               2015          400,216             29,085            429,301   \n",
       "4               2014          407,519             27,189            434,708   \n",
       "\n",
       "  Democratic Party Unnamed: 5_level_0 Unnamed: 6_level_0 Minor Parties  \\\n",
       "            Active           Inactive              Total        Active   \n",
       "0          760,672                NaN                NaN           NaN   \n",
       "1          771,412             77,081            848,493        29,668   \n",
       "2          810,136             59,705            869,841        28,050   \n",
       "3          703,851             73,035            776,886        20,610   \n",
       "4          712,925             72,962            785,887        20,168   \n",
       "\n",
       "  Unnamed: 8_level_0 Unnamed: 9_level_0 Unaffiliated Unnamed: 11_level_0  \\\n",
       "            Inactive              Total       Active            Inactive   \n",
       "0                NaN                NaN      857,111                 NaN   \n",
       "1              2,291             31,959      861,766              94,697   \n",
       "2              1,582             29,632      881,476              84,560   \n",
       "3              1,883             22,493      798,426             102,273   \n",
       "4              1,638             21,806      818,381              97,576   \n",
       "\n",
       "  Unnamed: 12_level_0     Totals Unnamed: 14_level_0 Unnamed: 15_level_0  \n",
       "                Total     Active            Inactive              Totals  \n",
       "0                 NaN        NaN                 NaN                 NaN  \n",
       "1             956,463  2,116,471             201,780           2,318,251  \n",
       "2             966,036  2,187,349             170,384           2,357,733  \n",
       "3             900,699  1,923,103             206,276           2,129,379  \n",
       "4             915,957  1,958,993             199,365           2,158,358  "
      ]
     },
     "execution_count": 40,
     "metadata": {},
     "output_type": "execute_result"
    }
   ],
   "source": [
    "df = pd.read_csv(\n",
    "    \"data/Voter registration - Sheet2.csv\",\n",
    "    header=[0,1]\n",
    ")\n",
    "\n",
    "df.head()"
   ]
  },
  {
   "cell_type": "code",
   "execution_count": null,
   "metadata": {},
   "outputs": [],
   "source": []
  },
  {
   "cell_type": "code",
   "execution_count": 41,
   "metadata": {},
   "outputs": [
    {
     "name": "stderr",
     "output_type": "stream",
     "text": [
      "/Users/jakekara/Library/Python/2.7/lib/python/site-packages/pandas/plotting/_core.py:186: UserWarning: 'colors' is being deprecated. Please use 'color'instead of 'colors'\n",
      "  warnings.warn((\"'colors' is being deprecated. Please use 'color'\"\n"
     ]
    },
    {
     "data": {
      "image/png": "[encoded data removed]",
      "text/plain": [
       "<matplotlib.figure.Figure at 0x111938890>"
      ]
     },
     "metadata": {},
     "output_type": "display_data"
    }
   ],
   "source": [
    "actives = df[[\"Unnamed: 0_level_0\",\"Republican Party\",\"Democratic Party\",\"Unaffiliated\"]]\n",
    "actives.columns = [\"Year\",\"Republican\",\"Democratic\",\"Unaffiliated\"]\n",
    "actives = actives.set_index(\"Year\").sort_index()\n",
    "for col in actives.columns.tolist():\n",
    "    actives[col] = pd.to_numeric(actives[col].apply(lambda x: str(x).replace(\",\",\"\").strip()),errors=coerce)\n",
    "%matplotlib inline\n",
    "\n",
    "colors = [\"red\",\"blue\",\"limegreen\"]\n",
    "\n",
    "ax = actives.plot(grid=True,colors=colors)\n"
   ]
  },
  {
   "cell_type": "markdown",
   "metadata": {},
   "source": [
    "### How do they fall off their peaks?\n",
    "\n",
    "We can see a slight pattern of voter registration dropping from its presidential year peaks. Let's see how 2018 fall-off compares with 2014 fall-off, both midterm years.\n",
    "\n",
    "Looks like Unaffiliated has held much more of its peak compared with Republicans and democrats, but those two parties' fall-off is about the same-ish (very scientific term here). \n",
    "\n",
    "To get a better sense of what's going on, we should look specifically at registrations, which I do in the other sheet in this repository."
   ]
  },
  {
   "cell_type": "code",
   "execution_count": 42,
   "metadata": {},
   "outputs": [
    {
     "data": {
      "text/plain": [
       "Republican      0.954196\n",
       "Democratic      0.938944\n",
       "Unaffiliated    0.972359\n",
       "dtype: float64"
      ]
     },
     "execution_count": 42,
     "metadata": {},
     "output_type": "execute_result"
    }
   ],
   "source": [
    "actives.loc[\"2018 YTD\"].transpose() / actives.loc[\"2016\"]"
   ]
  },
  {
   "cell_type": "code",
   "execution_count": 43,
   "metadata": {},
   "outputs": [
    {
     "data": {
      "text/plain": [
       "Republican      0.946477\n",
       "Democratic      0.928075\n",
       "Unaffiliated    0.937608\n",
       "dtype: float64"
      ]
     },
     "execution_count": 43,
     "metadata": {},
     "output_type": "execute_result"
    }
   ],
   "source": [
    "actives.loc[\"2014\"].transpose() / actives.loc[\"2012\"]"
   ]
  },
  {
   "cell_type": "code",
   "execution_count": 44,
   "metadata": {},
   "outputs": [
    {
     "data": {
      "text/html": [
       "<div>\n",
       "<style scoped>\n",
       "    .dataframe tbody tr th:only-of-type {\n",
       "        vertical-align: middle;\n",
       "    }\n",
       "\n",
       "    .dataframe tbody tr th {\n",
       "        vertical-align: top;\n",
       "    }\n",
       "\n",
       "    .dataframe thead th {\n",
       "        text-align: right;\n",
       "    }\n",
       "</style>\n",
       "<table border=\"1\" class=\"dataframe\">\n",
       "  <thead>\n",
       "    <tr style=\"text-align: right;\">\n",
       "      <th></th>\n",
       "      <th>Republican</th>\n",
       "      <th>Democratic</th>\n",
       "      <th>Unaffiliated</th>\n",
       "    </tr>\n",
       "    <tr>\n",
       "      <th>Year</th>\n",
       "      <th></th>\n",
       "      <th></th>\n",
       "      <th></th>\n",
       "    </tr>\n",
       "  </thead>\n",
       "  <tbody>\n",
       "    <tr>\n",
       "      <th>2010</th>\n",
       "      <td>419353</td>\n",
       "      <td>751360</td>\n",
       "      <td>843399</td>\n",
       "    </tr>\n",
       "    <tr>\n",
       "      <th>2014</th>\n",
       "      <td>407519</td>\n",
       "      <td>712925</td>\n",
       "      <td>818381</td>\n",
       "    </tr>\n",
       "    <tr>\n",
       "      <th>2018 YTD</th>\n",
       "      <td>446265</td>\n",
       "      <td>760672</td>\n",
       "      <td>857111</td>\n",
       "    </tr>\n",
       "  </tbody>\n",
       "</table>\n",
       "</div>"
      ],
      "text/plain": [
       "          Republican  Democratic  Unaffiliated\n",
       "Year                                          \n",
       "2010          419353      751360        843399\n",
       "2014          407519      712925        818381\n",
       "2018 YTD      446265      760672        857111"
      ]
     },
     "execution_count": 44,
     "metadata": {},
     "output_type": "execute_result"
    }
   ],
   "source": [
    "actives[actives.index.map(lambda x: x in [\"2010\", \"2014\", \"2018 YTD\"])]"
   ]
  },
  {
   "cell_type": "code",
   "execution_count": 45,
   "metadata": {},
   "outputs": [
    {
     "data": {
      "text/plain": [
       "Republican      430564\n",
       "Democratic      768176\n",
       "Unaffiliated    872839\n",
       "Name: 2012, dtype: int64"
      ]
     },
     "execution_count": 45,
     "metadata": {},
     "output_type": "execute_result"
    }
   ],
   "source": [
    "actives.loc[\"2012\"]"
   ]
  },
  {
   "cell_type": "code",
   "execution_count": null,
   "metadata": {},
   "outputs": [],
   "source": []
  }
 ],
 "metadata": {
  "kernelspec": {
   "display_name": "Python 2",
   "language": "python",
   "name": "python2"
  },
  "language_info": {
   "codemirror_mode": {
    "name": "ipython",
    "version": 2
   },
   "file_extension": ".py",
   "mimetype": "text/x-python",
   "name": "python",
   "nbconvert_exporter": "python",
   "pygments_lexer": "ipython2",
   "version": "2.7.10"
  }
 },
 "nbformat": 4,
 "nbformat_minor": 2
}
